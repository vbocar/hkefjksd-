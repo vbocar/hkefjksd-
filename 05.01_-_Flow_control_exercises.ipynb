{
 "cells": [
  {
   "cell_type": "markdown",
   "metadata": {
    "collapsed": true,
    "pycharm": {
     "name": "#%% md\n"
    }
   },
   "source": [
    "___\n",
    "\n",
    "<center><img src='../../BlueSoft_logo.png' width=\"500\" height=\"208\"/></center>\n",
    "\n",
    "___"
   ]
  },
  {
   "cell_type": "markdown",
   "metadata": {},
   "source": [
    "# Flow control exercises"
   ]
  },
  {
   "cell_type": "markdown",
   "metadata": {
    "pycharm": {
     "name": "#%% md\n"
    }
   },
   "source": [
    "### Exercise 1\n",
    "\n",
    "Write code that:\n",
    "- prints `Hello` if `1` is stored in `spam` variable,\n",
    "- prints `Howdy` if `2` is stored in `spam`,\n",
    "- and prints `Greetings!` if anything else is stored in `spam`."
   ]
  },
  {
   "cell_type": "code",
   "execution_count": 13,
   "metadata": {
    "pycharm": {
     "name": "#%%\n"
    },
    "scrolled": true
   },
   "outputs": [
    {
     "name": "stdout",
     "output_type": "stream",
     "text": [
      "Greetings!\n"
     ]
    }
   ],
   "source": [
    "# Code here\n",
    "spam = 69\n",
    "#------------------\n",
    "if spam == 1:\n",
    "    print ('Hello')\n",
    "elif spam == 2:\n",
    "    print ('Howdy') \n",
    "else:\n",
    "    print ('Greetings!')\n"
   ]
  },
  {
   "cell_type": "markdown",
   "metadata": {
    "pycharm": {
     "name": "#%% md\n"
    }
   },
   "source": [
    "### Exercise 2\n",
    "\n",
    "Write a program to accept a number from a user and calculate the sum of all numbers from 1 to a given number.\n",
    "\n",
    "For example, if the user entered `10` the output should be `55` (1 + 2 + 3 + 4 + 5 + 6 + 7 + 8 + 9 + 10).\n",
    "\n",
    "Expected output:\n",
    "```\n",
    "Enter your number.\n",
    "10\n",
    "Sum is: 55\n",
    "```"
   ]
  },
  {
   "cell_type": "code",
   "execution_count": 34,
   "metadata": {
    "pycharm": {
     "name": "#%%\n"
    }
   },
   "outputs": [
    {
     "name": "stdout",
     "output_type": "stream",
     "text": [
      "Enter your number.\n",
      "5\n",
      "Sum is: 15\n"
     ]
    }
   ],
   "source": [
    "# Code here\n",
    "limit_text = input('Enter your number.\\n')\n",
    "limit_integer = int(limit_text)\n",
    "lista = list(range(1, limit_integer+1))\n",
    "total_sum = sum(lista)\n",
    "print('Sum is:', total_sum)"
   ]
  },
  {
   "cell_type": "markdown",
   "metadata": {
    "pycharm": {
     "name": "#%% md\n"
    }
   },
   "source": [
    "### Exercise 3\n",
    "\n",
    "Write a program to print the following number pattern using a loop, where number of rows is given by the user.\n",
    "\n",
    "Expected output:\n",
    "```\n",
    "How many rows would you like to draw?\n",
    "5\n",
    "\n",
    "1 2 3 4 5\n",
    "1 2 3 4\n",
    "1 2 3\n",
    "1 2\n",
    "1\n",
    "```"
   ]
  },
  {
   "cell_type": "code",
   "execution_count": 35,
   "metadata": {
    "pycharm": {
     "name": "#%%\n"
    }
   },
   "outputs": [
    {
     "name": "stdout",
     "output_type": "stream",
     "text": [
      "How many rows would you like to draw?\n",
      "5\n",
      "\n",
      "1 2 3 4 5 \n",
      "1 2 3 4 \n",
      "1 2 3 \n",
      "1 2 \n",
      "1 "
     ]
    }
   ],
   "source": [
    "# Code here\n",
    "print('How many rows would you like to draw?')\n",
    "rows = int(input())\n",
    "\n",
    "for row_number in range(rows):\n",
    "    how_many_numbers = rows - row_number\n",
    "    print(\"\")\n",
    "    for current_number in range(how_many_numbers):\n",
    "        print(current_number + 1, end=\" \")\n",
    "    "
   ]
  },
  {
   "cell_type": "markdown",
   "metadata": {
    "pycharm": {
     "name": "#%% md\n"
    }
   },
   "source": [
    "### Exercise 4\n",
    "\n",
    "Write a program to check the validity of password input by users.\n",
    "\n",
    "- At least 1 letter between [a-z] and 1 letter between [A-Z].\n",
    "- At least 1 number between [0-9].\n",
    "- At least 1 character from [$#@].\n",
    "- Minimum length 6 characters.\n",
    "- Maximum length 16 characters.\n",
    "\n",
    "Expected output:\n",
    "```\n",
    "What is your password?\n",
    "MarekTracz1\n",
    "Invalid password format.\n",
    "```\n",
    "or:\n",
    "```\n",
    "What is your password?\n",
    "M@r3kTracz\n",
    "Registration successful.\n",
    "```"
   ]
  },
  {
   "cell_type": "code",
   "execution_count": 12,
   "metadata": {
    "pycharm": {
     "name": "#%%\n"
    }
   },
   "outputs": [],
   "source": [
    "# Code here\n",
    "password = input('What is your password?\\n')\n",
    "contains_small = not password.upper == password\n",
    "contains_large = not password.lower == password\n",
    "contains_number = False\n",
    "contains_symbol = False\n",
    "symbols = ['$','#','@']\n",
    "for char in password:\n",
    "    if char in symbols:\n",
    "        contains_symbol = True\n",
    "    if char.isnumeric:\n",
    "        contains_number = True\n",
    "\n",
    "if (len(password) < 6 or len(password) > 16) or not contains_small or not contains_large or not contains_number or not contains_symbol:\n",
    "    print('Invalid password format.')\n",
    "else:\n",
    "    print('Registration successful.')"
   ]
  },
  {
   "cell_type": "markdown",
   "metadata": {
    "pycharm": {
     "name": "#%% md\n"
    }
   },
   "source": [
    "### Exercise 5\n",
    "\n",
    "Write a program that reads two inputs representing a month and day and prints the season for that month and day.\n",
    "\n",
    "Expected output:\n",
    "```\n",
    "Input the month (e.g. January, February, etc.):\n",
    "December\n",
    "Input the day:\n",
    "1\n",
    "At that day, the season is autumn.\n",
    "```"
   ]
  },
  {
   "cell_type": "code",
   "execution_count": 64,
   "metadata": {
    "pycharm": {
     "name": "#%%\n"
    }
   },
   "outputs": [
    {
     "name": "stdout",
     "output_type": "stream",
     "text": [
      "Input the month (e.g. January, February, etc.):\n",
      "December\n",
      "Input the day:\n",
      "8\n",
      "At that day, the season is autumn\n"
     ]
    }
   ],
   "source": [
    "# Code here\n",
    "month = input('Input the month (e.g. January, February, etc.):\\n').lower()\n",
    "day = int(input('Input the day:\\n'))\n",
    "only_spring = ['april', 'may']\n",
    "only_summer = ['july','august']\n",
    "only_autumn = ['october','novermber']\n",
    "only_winter = ['january','february']\n",
    "\n",
    "if month in only_spring or (month=='march' and day > 20) or (month=='june' and day < 22):\n",
    "    season = 'spring'\n",
    "elif month in only_summer or (month=='june' and day > 21) or (month=='september' and day < 23):\n",
    "    season = 'summer'\n",
    "elif month in only_autumn or (month=='september' and day > 22) or (month=='december' and day < 22):\n",
    "    season = 'autumn'\n",
    "elif month in only_winter or (month == 'december' and day > 21) or (month == 'march' and day < 21):\n",
    "    season = 'winter'\n",
    "print('At that day, the season is', season)\n"
   ]
  },
  {
   "cell_type": "markdown",
   "metadata": {
    "pycharm": {
     "name": "#%% md\n"
    }
   },
   "source": [
    "### Exercise 6\n",
    "\n",
    "Given a dictionary called `stocks` that contains both stock tickers and the corresponding stock prices, write code that prints out the formatted information in the table.\n",
    "\n",
    "Expected output:\n",
    "```\n",
    "-----------------------\n",
    "TICKER      PRICE (USD)\n",
    "-----------------------\n",
    "AAPL             165.30\n",
    "MSFT             330.59\n",
    "FB               324.46\n",
    "AMZN            3507.07\n",
    "TSLA            1144.76\n",
    "GOOGL           2837.95\n",
    "```"
   ]
  },
  {
   "cell_type": "code",
   "execution_count": 73,
   "metadata": {
    "pycharm": {
     "name": "#%%\n"
    }
   },
   "outputs": [
    {
     "name": "stdout",
     "output_type": "stream",
     "text": [
      "-----------------------\n",
      "TICKER      PRICE (USD)\n",
      "AAPL            165.3\n",
      "MSFT            330.59\n",
      "FB              324.46\n",
      "AMZN            3507.07\n",
      "TSLA            1144.76\n",
      "GOOGL           2837.95\n"
     ]
    }
   ],
   "source": [
    "stocks = {\n",
    "        'AAPL': 165.30,\n",
    "        'MSFT': 330.59,\n",
    "        'FB': 324.46,\n",
    "        'AMZN': 3507.07,\n",
    "        'TSLA': 1144.76,\n",
    "        'GOOGL': 2837.95\n",
    "        }\n",
    "\n",
    "# Code here\n",
    "print('-----------------------')\n",
    "print('TICKER      PRICE (USD)')\n",
    "\n",
    "for name, price in stocks.items():\n",
    "    print(f'{name.ljust(5)}           {price}')\n",
    "\n"
   ]
  },
  {
   "cell_type": "markdown",
   "metadata": {
    "pycharm": {
     "name": "#%% md\n"
    }
   },
   "source": [
    "### Exercise 7\n",
    "\n",
    "The code below prints all perfect numbers from 1 to 100. Rewrite the `while` loop into `for` loop.\n",
    "\n",
    "More information about perfect numbers here: [Wikipedia: Perfect number](https://en.wikipedia.org/wiki/Perfect_number)."
   ]
  },
  {
   "cell_type": "code",
   "execution_count": 15,
   "metadata": {
    "pycharm": {
     "name": "#%%\n"
    }
   },
   "outputs": [
    {
     "name": "stdout",
     "output_type": "stream",
     "text": [
      "Shows Perfect number fom 1 to 100.\n",
      "Perfect number: 6\n",
      "Perfect number: 28\n"
     ]
    }
   ],
   "source": [
    "# solution using while and for loops\n",
    "\n",
    "print('Shows Perfect number fom 1 to 100.')\n",
    "n = 2\n",
    "# outer while loop\n",
    "while n <= 100:\n",
    "    x_sum = 0\n",
    "    # inner for loop\n",
    "    for i in range(1, n):\n",
    "        if n % i == 0:\n",
    "            x_sum += i\n",
    "    if x_sum == n:\n",
    "        print('Perfect number:', n)\n",
    "    n += 1"
   ]
  },
  {
   "cell_type": "code",
   "execution_count": 16,
   "metadata": {
    "pycharm": {
     "name": "#%%\n"
    }
   },
   "outputs": [],
   "source": [
    "# solution using only for loops\n"
   ]
  }
 ],
 "metadata": {
  "kernelspec": {
   "display_name": "Python 3 (ipykernel)",
   "language": "python",
   "name": "python3"
  },
  "language_info": {
   "codemirror_mode": {
    "name": "ipython",
    "version": 3
   },
   "file_extension": ".py",
   "mimetype": "text/x-python",
   "name": "python",
   "nbconvert_exporter": "python",
   "pygments_lexer": "ipython3",
   "version": "3.9.7"
  }
 },
 "nbformat": 4,
 "nbformat_minor": 1
}
